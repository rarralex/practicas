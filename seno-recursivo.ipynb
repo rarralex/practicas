{
 "metadata": {
  "language": "Julia",
  "name": "",
  "signature": "sha256:08e7bbdb3c1af06d60b9dc8243bfb653dda2db67898d0b47c653473f6f97b8ed"
 },
 "nbformat": 3,
 "nbformat_minor": 0,
 "worksheets": [
  {
   "cells": [
    {
     "cell_type": "code",
     "collapsed": false,
     "input": [
      "function fac(N)\n",
      "    factorial=1\n",
      "    for i in 1:N\n",
      "        factorial = factorial*i\n",
      "    end\n",
      "    factorial\n",
      "end"
     ],
     "language": "python",
     "metadata": {},
     "outputs": [
      {
       "metadata": {},
       "output_type": "pyout",
       "prompt_number": 1,
       "text": [
        "fac (generic function with 1 method)"
       ]
      }
     ],
     "prompt_number": 1
    },
    {
     "cell_type": "code",
     "collapsed": false,
     "input": [
      "fac(5)"
     ],
     "language": "python",
     "metadata": {},
     "outputs": [
      {
       "metadata": {},
       "output_type": "pyout",
       "prompt_number": 2,
       "text": [
        "120"
       ]
      }
     ],
     "prompt_number": 2
    },
    {
     "cell_type": "code",
     "collapsed": false,
     "input": [
      "fac(6)"
     ],
     "language": "python",
     "metadata": {},
     "outputs": [
      {
       "metadata": {},
       "output_type": "pyout",
       "prompt_number": 4,
       "text": [
        "720"
       ]
      }
     ],
     "prompt_number": 4
    },
    {
     "cell_type": "code",
     "collapsed": false,
     "input": [
      "function sen1(x)\n",
      "    seno=0\n",
      "    for i in 1:1000\n",
      "        seno+= (-1)^(i-1)*((x^(2i-1))/(fac(2i-1)))\n",
      "    end\n",
      "    seno\n",
      "end"
     ],
     "language": "python",
     "metadata": {},
     "outputs": [
      {
       "metadata": {},
       "output_type": "pyout",
       "prompt_number": 5,
       "text": [
        "sen1 (generic function with 1 method)"
       ]
      }
     ],
     "prompt_number": 5
    },
    {
     "cell_type": "code",
     "collapsed": false,
     "input": [
      "sen1(1)"
     ],
     "language": "python",
     "metadata": {},
     "outputs": [
      {
       "metadata": {},
       "output_type": "pyout",
       "prompt_number": 6,
       "text": [
        "NaN"
       ]
      }
     ],
     "prompt_number": 6
    },
    {
     "cell_type": "heading",
     "level": 1,
     "metadata": {},
     "source": [
      "La funci\u00f3n In[5] tiene mil iteraciones, y no funciona. Le pongo big a x, y tampoco funciona. Ya prob\u00e9 el big de muchas formas, y nada. En alguna s\u00ed funciono, pero s\u00f3lo para n\u00fameros peque\u00f1os. seno de 100 o 200 ya daba resultados mayor a 2. A\u00fan con 1000 iteraciones."
     ]
    },
    {
     "cell_type": "code",
     "collapsed": false,
     "input": [
      "function sen2(x)\n",
      "    seno=0\n",
      "    for i in 1:1000\n",
      "        seno+= (-1)^(i-1)*((big(x)^(2i-1))/(fac(2i-1)))\n",
      "    end\n",
      "    seno\n",
      "end"
     ],
     "language": "python",
     "metadata": {},
     "outputs": [
      {
       "metadata": {},
       "output_type": "pyout",
       "prompt_number": 15,
       "text": [
        "sen2 (generic function with 1 method)"
       ]
      }
     ],
     "prompt_number": 15
    },
    {
     "cell_type": "code",
     "collapsed": false,
     "input": [
      "sen2(1)"
     ],
     "language": "python",
     "metadata": {},
     "outputs": [
      {
       "metadata": {},
       "output_type": "pyout",
       "prompt_number": 8,
       "text": [
        "nan with 256 bits of precision"
       ]
      }
     ],
     "prompt_number": 8
    },
    {
     "cell_type": "code",
     "collapsed": false,
     "input": [
      "function sen3(x)\n",
      "    seno=0\n",
      "    for i in 1:10\n",
      "        seno+= (-1)^(i-1)*((x^(2i-1))/(fac(2i-1)))\n",
      "    end\n",
      "    seno\n",
      "end"
     ],
     "language": "python",
     "metadata": {},
     "outputs": [
      {
       "metadata": {},
       "output_type": "pyout",
       "prompt_number": 9,
       "text": [
        "sen3 (generic function with 1 method)"
       ]
      }
     ],
     "prompt_number": 9
    },
    {
     "cell_type": "code",
     "collapsed": false,
     "input": [
      "sen3(1)"
     ],
     "language": "python",
     "metadata": {},
     "outputs": [
      {
       "metadata": {},
       "output_type": "pyout",
       "prompt_number": 10,
       "text": [
        "0.8414709848078965"
       ]
      }
     ],
     "prompt_number": 10
    },
    {
     "cell_type": "code",
     "collapsed": false,
     "input": [
      "sin(1)"
     ],
     "language": "python",
     "metadata": {},
     "outputs": [
      {
       "metadata": {},
       "output_type": "pyout",
       "prompt_number": 11,
       "text": [
        "0.8414709848078965"
       ]
      }
     ],
     "prompt_number": 11
    },
    {
     "cell_type": "heading",
     "level": 1,
     "metadata": {},
     "source": [
      "Cuando bajo el n\u00famero de iteraciones ya jala. Pero s\u00f3lo para n\u00famero peque\u00f1os. Por ejemplo, al meter sen3(100), me da un n\u00famero mayor a dos."
     ]
    },
    {
     "cell_type": "code",
     "collapsed": false,
     "input": [
      "sen3(100)"
     ],
     "language": "python",
     "metadata": {},
     "outputs": [
      {
       "metadata": {},
       "output_type": "pyout",
       "prompt_number": 17,
       "text": [
        "2.6888474391006143e12"
       ]
      }
     ],
     "prompt_number": 17
    },
    {
     "cell_type": "code",
     "collapsed": false,
     "input": [
      "sin(100)"
     ],
     "language": "python",
     "metadata": {},
     "outputs": [
      {
       "metadata": {},
       "output_type": "pyout",
       "prompt_number": 18,
       "text": [
        "-0.5063656411097588"
       ]
      }
     ],
     "prompt_number": 18
    },
    {
     "cell_type": "code",
     "collapsed": false,
     "input": [],
     "language": "python",
     "metadata": {},
     "outputs": []
    }
   ],
   "metadata": {}
  }
 ]
}